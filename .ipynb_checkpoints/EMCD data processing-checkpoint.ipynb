{
 "cells": [
  {
   "cell_type": "code",
   "execution_count": 1,
   "id": "d3db8482",
   "metadata": {},
   "outputs": [],
   "source": []
  },
  {
   "cell_type": "code",
   "execution_count": null,
   "id": "aa2ae51e",
   "metadata": {},
   "outputs": [],
   "source": [
    "import matplotlib.pyplot as plt\n",
    "import numpy as np\n",
    "from scipy.optimize import curve_fit"
   ]
  },
  {
   "cell_type": "code",
   "execution_count": 2,
   "id": "efa49466",
   "metadata": {},
   "outputs": [],
   "source": [
    "import hyperspy.api as hs"
   ]
  },
  {
   "cell_type": "code",
   "execution_count": 3,
   "id": "689e47b7",
   "metadata": {},
   "outputs": [
    {
     "name": "stdout",
     "output_type": "stream",
     "text": [
      "Populating the interactive namespace from numpy and matplotlib\n"
     ]
    }
   ],
   "source": [
    "%pylab qt"
   ]
  },
  {
   "cell_type": "code",
   "execution_count": 4,
   "id": "cea9a9e9",
   "metadata": {},
   "outputs": [],
   "source": [
    "path = '/Users/josephvas/Dropbox/ER-C/Projects/EMCD_YIG/EMCD_PCA/'\n",
    "file_name1 = 'STEM_SI_C-_PCA.dm4'\n",
    "file_name2 = 'STEM_SI_C+_PCA.dm4'"
   ]
  },
  {
   "cell_type": "code",
   "execution_count": 5,
   "id": "5dc1c144",
   "metadata": {},
   "outputs": [],
   "source": [
    "eels_data_minus = hs.load(path+file_name1)\n",
    "eels_data_plus = hs.load(path+file_name2)"
   ]
  },
  {
   "cell_type": "code",
   "execution_count": 6,
   "id": "ad21e0fb",
   "metadata": {},
   "outputs": [],
   "source": [
    "eels_data_minus.plot()"
   ]
  },
  {
   "cell_type": "code",
   "execution_count": 7,
   "id": "0bc5256b",
   "metadata": {},
   "outputs": [
    {
     "name": "stderr",
     "output_type": "stream",
     "text": [
      "Qt WebEngine seems to be initialized from a plugin. Please set Qt::AA_ShareOpenGLContexts using QCoreApplication::setAttribute before constructing QGuiApplication.\n"
     ]
    },
    {
     "data": {
      "application/vnd.jupyter.widget-view+json": {
       "model_id": "3a22ffd0bc7d45179d0621dab181fd7a",
       "version_major": 2,
       "version_minor": 0
      },
      "text/plain": [
       "VBox(children=(FloatText(value=nan, description='Left', disabled=True), FloatText(value=nan, description='Righ…"
      ]
     },
     "metadata": {},
     "output_type": "display_data"
    },
    {
     "name": "stderr",
     "output_type": "stream",
     "text": [
      "/Users/josephvas/opt/anaconda3/lib/python3.9/site-packages/hyperspy/_components/power_law.py:151: RuntimeWarning: invalid value encountered in log\n",
      "  r = 2 * (np.log(I1) - np.log(I2)) / (np.log(x2) - np.log(x1))\n"
     ]
    }
   ],
   "source": [
    "eels_data_minus.remove_background()"
   ]
  },
  {
   "cell_type": "code",
   "execution_count": 8,
   "id": "0b9c8b4b",
   "metadata": {},
   "outputs": [
    {
     "data": {
      "application/vnd.jupyter.widget-view+json": {
       "model_id": "",
       "version_major": 2,
       "version_minor": 0
      },
      "text/plain": [
       "VBox(children=(FloatText(value=nan, description='Left', disabled=True), FloatText(value=nan, description='Righ…"
      ]
     },
     "metadata": {},
     "output_type": "display_data"
    },
    {
     "name": "stderr",
     "output_type": "stream",
     "text": [
      "/Users/josephvas/opt/anaconda3/lib/python3.9/site-packages/hyperspy/_components/power_law.py:151: RuntimeWarning: invalid value encountered in log\n",
      "  r = 2 * (np.log(I1) - np.log(I2)) / (np.log(x2) - np.log(x1))\n"
     ]
    }
   ],
   "source": [
    "eels_data_plus.plot()\n",
    "eels_data_plus.remove_background()"
   ]
  },
  {
   "cell_type": "markdown",
   "id": "d2782415",
   "metadata": {},
   "source": [
    "eels_data_plus.plot()\n",
    "eels_data_minus.plot()"
   ]
  },
  {
   "cell_type": "code",
   "execution_count": 9,
   "id": "00a113e3",
   "metadata": {},
   "outputs": [],
   "source": [
    "# correcting the postedge\n",
    "eels_minus_corrected = eels_data_minus.deepcopy()\n",
    "eels_plus_corrected = eels_data_plus.deepcopy()\n",
    "\n",
    "m= eels_minus_corrected.data.shape[0]\n",
    "n = eels_minus_corrected.data.shape[1]\n",
    "\n",
    "for i in range(0,n):\n",
    "    for j in range(0,m):\n",
    "        mean_plus = np.mean(eels_data_plus.inav[i,j].isig[740.:790.].data)\n",
    "        mean_minus = np.mean(eels_data_minus.inav[i,j].isig[740.:790.].data)\n",
    "        max_plus = np.max(eels_data_plus.inav[i,j].isig[:].data)\n",
    "        max_minus = np.max(eels_data_plus.inav[i,j].isig[:].data)\n",
    "        correction_factor = mean_plus/mean_minus\n",
    "        eels_minus_corrected.data[j,i] = eels_minus_corrected.data[j,i]*correction_factor/max_plus\n",
    "        eels_plus_corrected.data[j,i] = eels_plus_corrected.data[j,i]/max_plus"
   ]
  },
  {
   "cell_type": "code",
   "execution_count": 10,
   "id": "3f739333",
   "metadata": {},
   "outputs": [],
   "source": [
    "# substrat\n",
    "eels_subtracted = eels_data_minus.deepcopy()\n",
    "\n",
    "eels_subtracted = eels_plus_corrected-eels_minus_corrected"
   ]
  },
  {
   "cell_type": "code",
   "execution_count": 59,
   "id": "d80d9057",
   "metadata": {},
   "outputs": [],
   "source": [
    "eels_subtracted.plot()\n"
   ]
  },
  {
   "cell_type": "code",
   "execution_count": 50,
   "id": "458d02a2",
   "metadata": {},
   "outputs": [],
   "source": [
    "eels_plus_corrected.plot()\n",
    "eels_minus_corrected.plot()"
   ]
  },
  {
   "cell_type": "code",
   "execution_count": 68,
   "id": "1d48487d",
   "metadata": {},
   "outputs": [
    {
     "data": {
      "text/plain": [
       "57"
      ]
     },
     "execution_count": 68,
     "metadata": {},
     "output_type": "execute_result"
    }
   ],
   "source": [
    "eels_subtracted.data.shape[0]"
   ]
  },
  {
   "cell_type": "code",
   "execution_count": 69,
   "id": "ee059547",
   "metadata": {},
   "outputs": [],
   "source": [
    "output_matrix = np.zeros([eels_subtracted.data.shape[0],eels_subtracted.data.shape[1],2])"
   ]
  },
  {
   "cell_type": "code",
   "execution_count": 80,
   "id": "f209660c",
   "metadata": {},
   "outputs": [],
   "source": [
    "#reconstructing the energy axis\n",
    "\n",
    "slope = eels_subtracted.axes_manager[2].scale\n",
    "c = eels_subtracted.axes_manager[2].offset\n",
    "energy_axis = np.linspace(0,eels_subtracted.axes_manager[2].size-1,eels_subtracted.axes_manager[2].size)\n",
    "energy_axis = slope*energy_axis+c\n",
    "\n",
    "#defining the double gausisian to fit\n",
    "\n",
    "# Define the model function for a single Gaussian curve\n",
    "def gaussian(x, amp, mean, std_dev):\n",
    "    return amp * np.exp(-(x - mean) ** 2 / (2 * std_dev ** 2))\n",
    "\n",
    "# Define the model function for two Gaussian curves\n",
    "def double_gaussian(x, amp1, mean1, std_dev1, amp2, mean2, std_dev2):\n",
    "    return gaussian(x, amp1, mean1, std_dev1) + gaussian(x, amp2, mean2, std_dev2)\n",
    "\n",
    "#initial settings\n",
    "amp1 = 1\n",
    "mean1 =710\n",
    "std_dev1 = 5\n",
    "\n",
    "amp2 = 1\n",
    "mean2 = 724\n",
    "std_dev2 = 5\n",
    "\n",
    "initial_guess = [amp1, mean1, std_dev1, amp2, mean2, std_dev2]\n",
    "output_matrix = np.zeros([eels_subtracted.data.shape[0],eels_subtracted.data.shape[1],2])\n",
    "\n",
    "\n",
    "for i in range(0,n):\n",
    "    for j in range(0,m):\n",
    "        y_data =eels_subtracted.inav[i,j].isig[:].data\n",
    "        params, covariance = curve_fit(double_gaussian, energy_axis, y_data, p0=initial_guess)\n",
    "        amp1, mean1, std_dev1, amp2, mean2, std_dev2 = params\n",
    "        output_matrix[j,i] = amp1,amp2\n"
   ]
  },
  {
   "cell_type": "code",
   "execution_count": 83,
   "id": "0c2c5417",
   "metadata": {},
   "outputs": [
    {
     "data": {
      "text/plain": [
       "array([[[ 0.18635035, -0.02781908],\n",
       "        [ 0.18263783, -0.0287549 ],\n",
       "        [ 0.18726013, -0.02715042],\n",
       "        ...,\n",
       "        [ 0.18256444, -0.02812838],\n",
       "        [ 0.18991135, -0.02553034],\n",
       "        [ 0.18514505, -0.02703008]],\n",
       "\n",
       "       [[ 0.19001225, -0.02651512],\n",
       "        [ 0.1771146 , -0.03039811],\n",
       "        [ 0.17894797, -0.0297029 ],\n",
       "        ...,\n",
       "        [ 0.19022922, -0.02564086],\n",
       "        [ 0.18236314, -0.02794675],\n",
       "        [ 0.19511924, -0.0242259 ]],\n",
       "\n",
       "       [[ 0.18812712, -0.02726813],\n",
       "        [ 0.18877605, -0.02677939],\n",
       "        [ 0.19456524, -0.02499201],\n",
       "        ...,\n",
       "        [ 0.19571714, -0.02414023],\n",
       "        [ 0.18866726, -0.02616579],\n",
       "        [ 0.19733469, -0.02357274]],\n",
       "\n",
       "       ...,\n",
       "\n",
       "       [[ 0.12341867,  0.02326553],\n",
       "        [ 0.1223565 ,  0.02385626],\n",
       "        [ 0.1234927 ,  0.02201549],\n",
       "        ...,\n",
       "        [ 0.12206092,  0.02242175],\n",
       "        [ 0.12189908,  0.02181914],\n",
       "        [ 0.12391575,  0.02347339]],\n",
       "\n",
       "       [[ 0.12159816,  0.02444509],\n",
       "        [ 0.1219399 ,  0.02349698],\n",
       "        [ 0.12033395,  0.02163843],\n",
       "        ...,\n",
       "        [ 0.12129882,  0.02345221],\n",
       "        [ 0.12178994,  0.02231659],\n",
       "        [ 0.1215733 ,  0.02262589]],\n",
       "\n",
       "       [[ 0.12170699,  0.02666511],\n",
       "        [ 0.12303754,  0.02822994],\n",
       "        [ 0.120651  ,  0.02538202],\n",
       "        ...,\n",
       "        [ 0.11933246,  0.0257443 ],\n",
       "        [ 0.12100896,  0.02533009],\n",
       "        [ 0.12022861,  0.02347259]]])"
      ]
     },
     "execution_count": 83,
     "metadata": {},
     "output_type": "execute_result"
    }
   ],
   "source": [
    "output_matrix"
   ]
  },
  {
   "cell_type": "code",
   "execution_count": null,
   "id": "964e4795",
   "metadata": {},
   "outputs": [],
   "source": []
  }
 ],
 "metadata": {
  "kernelspec": {
   "display_name": "Python 3 (ipykernel)",
   "language": "python",
   "name": "python3"
  },
  "language_info": {
   "codemirror_mode": {
    "name": "ipython",
    "version": 3
   },
   "file_extension": ".py",
   "mimetype": "text/x-python",
   "name": "python",
   "nbconvert_exporter": "python",
   "pygments_lexer": "ipython3",
   "version": "3.9.7"
  }
 },
 "nbformat": 4,
 "nbformat_minor": 5
}
