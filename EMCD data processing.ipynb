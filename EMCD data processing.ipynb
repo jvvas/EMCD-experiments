{
 "cells": [
  {
   "cell_type": "code",
   "execution_count": 1,
   "id": "a489ba00",
   "metadata": {},
   "outputs": [],
   "source": []
  },
  {
   "cell_type": "code",
   "execution_count": 1,
   "id": "d297e8aa",
   "metadata": {},
   "outputs": [],
   "source": [
    "import matplotlib.pyplot as plt\n",
    "import numpy as np\n",
    "from scipy.optimize import curve_fit"
   ]
  },
  {
   "cell_type": "code",
   "execution_count": 2,
   "id": "2a2b4c83",
   "metadata": {},
   "outputs": [],
   "source": [
    "import hyperspy.api as hs"
   ]
  },
  {
   "cell_type": "code",
   "execution_count": 3,
   "id": "1ff890e7",
   "metadata": {},
   "outputs": [
    {
     "name": "stdout",
     "output_type": "stream",
     "text": [
      "Populating the interactive namespace from numpy and matplotlib\n"
     ]
    }
   ],
   "source": [
    "%pylab qt"
   ]
  },
  {
   "cell_type": "code",
   "execution_count": 4,
   "id": "df580b06",
   "metadata": {},
   "outputs": [],
   "source": [
    "path = '/Users/josephvas/Dropbox/ER-C/Projects/EMCD_YIG/EMCD_PCA/'\n",
    "file_name1 = 'STEM_SI_C-_PCA.dm4'\n",
    "file_name2 = 'STEM_SI_C+_PCA.dm4'"
   ]
  },
  {
   "cell_type": "code",
   "execution_count": 5,
   "id": "b0230c93",
   "metadata": {},
   "outputs": [],
   "source": [
    "eels_data_minus = hs.load(path+file_name1)\n",
    "eels_data_plus = hs.load(path+file_name2)"
   ]
  },
  {
   "cell_type": "code",
   "execution_count": 6,
   "id": "8f5dac8a",
   "metadata": {},
   "outputs": [],
   "source": [
    "eels_data_minus.plot()"
   ]
  },
  {
   "cell_type": "code",
   "execution_count": 7,
   "id": "8a744ae3",
   "metadata": {},
   "outputs": [
    {
     "name": "stderr",
     "output_type": "stream",
     "text": [
      "Qt WebEngine seems to be initialized from a plugin. Please set Qt::AA_ShareOpenGLContexts using QCoreApplication::setAttribute before constructing QGuiApplication.\n"
     ]
    },
    {
     "data": {
      "application/vnd.jupyter.widget-view+json": {
       "model_id": "",
       "version_major": 2,
       "version_minor": 0
      },
      "text/plain": [
       "VBox(children=(FloatText(value=nan, description='Left', disabled=True), FloatText(value=nan, description='Righ…"
      ]
     },
     "metadata": {},
     "output_type": "display_data"
    },
    {
     "name": "stderr",
     "output_type": "stream",
     "text": [
      "/Users/josephvas/opt/anaconda3/lib/python3.9/site-packages/hyperspy/_components/power_law.py:151: RuntimeWarning: invalid value encountered in log\n",
      "  r = 2 * (np.log(I1) - np.log(I2)) / (np.log(x2) - np.log(x1))\n"
     ]
    }
   ],
   "source": [
    "eels_data_minus.remove_background()"
   ]
  },
  {
   "cell_type": "code",
   "execution_count": 8,
   "id": "a3b0b105",
   "metadata": {},
   "outputs": [
    {
     "data": {
      "application/vnd.jupyter.widget-view+json": {
       "model_id": "",
       "version_major": 2,
       "version_minor": 0
      },
      "text/plain": [
       "VBox(children=(FloatText(value=nan, description='Left', disabled=True), FloatText(value=nan, description='Righ…"
      ]
     },
     "metadata": {},
     "output_type": "display_data"
    },
    {
     "name": "stderr",
     "output_type": "stream",
     "text": [
      "/Users/josephvas/opt/anaconda3/lib/python3.9/site-packages/hyperspy/_components/power_law.py:151: RuntimeWarning: invalid value encountered in log\n",
      "  r = 2 * (np.log(I1) - np.log(I2)) / (np.log(x2) - np.log(x1))\n"
     ]
    }
   ],
   "source": [
    "eels_data_plus.plot()\n",
    "eels_data_plus.remove_background()"
   ]
  },
  {
   "cell_type": "markdown",
   "id": "fc2a47f3",
   "metadata": {},
   "source": [
    "eels_data_plus.plot()\n",
    "eels_data_minus.plot()"
   ]
  },
  {
   "cell_type": "code",
   "execution_count": 9,
   "id": "92381140",
   "metadata": {},
   "outputs": [],
   "source": [
    "# correcting the postedge\n",
    "eels_minus_corrected = eels_data_minus.deepcopy()\n",
    "eels_plus_corrected = eels_data_plus.deepcopy()\n",
    "\n",
    "m= eels_minus_corrected.data.shape[0]\n",
    "n = eels_minus_corrected.data.shape[1]\n",
    "\n",
    "for i in range(0,n):\n",
    "    for j in range(0,m):\n",
    "        mean_plus = np.mean(eels_data_plus.inav[i,j].isig[740.:790.].data)\n",
    "        mean_minus = np.mean(eels_data_minus.inav[i,j].isig[740.:790.].data)\n",
    "        max_plus = np.max(eels_data_plus.inav[i,j].isig[:].data)\n",
    "        max_minus = np.max(eels_data_plus.inav[i,j].isig[:].data)\n",
    "        correction_factor = mean_plus/mean_minus\n",
    "        eels_minus_corrected.data[j,i] = eels_minus_corrected.data[j,i]*correction_factor/max_plus\n",
    "        eels_plus_corrected.data[j,i] = eels_plus_corrected.data[j,i]/max_plus"
   ]
  },
  {
   "cell_type": "code",
   "execution_count": 10,
   "id": "aa3af58c",
   "metadata": {},
   "outputs": [],
   "source": [
    "# substrat\n",
    "eels_subtracted = eels_data_minus.deepcopy()\n",
    "\n",
    "eels_subtracted = eels_plus_corrected-eels_minus_corrected"
   ]
  },
  {
   "cell_type": "code",
   "execution_count": 11,
   "id": "4ff3e4bf",
   "metadata": {},
   "outputs": [],
   "source": [
    "eels_subtracted.plot()\n"
   ]
  },
  {
   "cell_type": "code",
   "execution_count": 50,
   "id": "44e2fa04",
   "metadata": {},
   "outputs": [],
   "source": [
    "eels_plus_corrected.plot()\n",
    "eels_minus_corrected.plot()"
   ]
  },
  {
   "cell_type": "code",
   "execution_count": 68,
   "id": "ec67c9c9",
   "metadata": {},
   "outputs": [
    {
     "data": {
      "text/plain": [
       "57"
      ]
     },
     "execution_count": 68,
     "metadata": {},
     "output_type": "execute_result"
    }
   ],
   "source": [
    "eels_subtracted.data.shape[0]"
   ]
  },
  {
   "cell_type": "code",
   "execution_count": 69,
   "id": "bc00a15d",
   "metadata": {},
   "outputs": [],
   "source": [
    "output_matrix = np.zeros([eels_subtracted.data.shape[0],eels_subtracted.data.shape[1],2])"
   ]
  },
  {
   "cell_type": "code",
   "execution_count": 80,
   "id": "9efebb3f",
   "metadata": {},
   "outputs": [],
   "source": [
    "#reconstructing the energy axis\n",
    "\n",
    "slope = eels_subtracted.axes_manager[2].scale\n",
    "c = eels_subtracted.axes_manager[2].offset\n",
    "energy_axis = np.linspace(0,eels_subtracted.axes_manager[2].size-1,eels_subtracted.axes_manager[2].size)\n",
    "energy_axis = slope*energy_axis+c\n",
    "\n",
    "#defining the double gausisian to fit\n",
    "\n",
    "# Define the model function for a single Gaussian curve\n",
    "def gaussian(x, amp, mean, std_dev):\n",
    "    return amp * np.exp(-(x - mean) ** 2 / (2 * std_dev ** 2))\n",
    "\n",
    "# Define the model function for two Gaussian curves\n",
    "def double_gaussian(x, amp1, mean1, std_dev1, amp2, mean2, std_dev2):\n",
    "    return gaussian(x, amp1, mean1, std_dev1) + gaussian(x, amp2, mean2, std_dev2)\n",
    "\n",
    "#initial settings\n",
    "amp1 = 1\n",
    "mean1 =710\n",
    "std_dev1 = 5\n",
    "\n",
    "amp2 = 1\n",
    "mean2 = 724\n",
    "std_dev2 = 5\n",
    "\n",
    "initial_guess = [amp1, mean1, std_dev1, amp2, mean2, std_dev2]\n",
    "output_matrix = np.zeros([eels_subtracted.data.shape[0],eels_subtracted.data.shape[1],2])\n",
    "\n",
    "\n",
    "for i in range(0,n):\n",
    "    for j in range(0,m):\n",
    "        y_data =eels_subtracted.inav[i,j].isig[:].data\n",
    "        params, covariance = curve_fit(double_gaussian, energy_axis, y_data, p0=initial_guess)\n",
    "        amp1, mean1, std_dev1, amp2, mean2, std_dev2 = params\n",
    "        output_matrix[j,i] = amp1,amp2\n"
   ]
  },
  {
   "cell_type": "code",
   "execution_count": 96,
   "id": "13cd3ab1",
   "metadata": {},
   "outputs": [],
   "source": [
    "first_peak = hs.signals.Signal2D(output_matrix[:,:,0])\n",
    "first_peak.plot()"
   ]
  },
  {
   "cell_type": "code",
   "execution_count": 95,
   "id": "e778764c",
   "metadata": {},
   "outputs": [],
   "source": [
    "second_peak = hs.signals.Signal2D(output_matrix[:,:,1])\n",
    "second_peak.plot()"
   ]
  },
  {
   "cell_type": "code",
   "execution_count": null,
   "id": "8a71011f",
   "metadata": {},
   "outputs": [],
   "source": []
  }
 ],
 "metadata": {
  "kernelspec": {
   "display_name": "Python 3 (ipykernel)",
   "language": "python",
   "name": "python3"
  },
  "language_info": {
   "codemirror_mode": {
    "name": "ipython",
    "version": 3
   },
   "file_extension": ".py",
   "mimetype": "text/x-python",
   "name": "python",
   "nbconvert_exporter": "python",
   "pygments_lexer": "ipython3",
   "version": "3.9.7"
  }
 },
 "nbformat": 4,
 "nbformat_minor": 5
}
